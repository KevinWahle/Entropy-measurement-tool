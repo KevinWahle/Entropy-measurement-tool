{
  "nbformat": 4,
  "nbformat_minor": 0,
  "metadata": {
    "colab": {
      "provenance": []
    },
    "kernelspec": {
      "name": "python3",
      "display_name": "Python 3"
    },
    "language_info": {
      "name": "python"
    }
  },
  "cells": [
    {
      "cell_type": "code",
      "source": [
        "import numpy as np"
      ],
      "metadata": {
        "id": "cKTc4wJIS8D4"
      },
      "execution_count": 20,
      "outputs": []
    },
    {
      "cell_type": "code",
      "execution_count": 51,
      "metadata": {
        "id": "OfjlmsqzK3G9"
      },
      "outputs": [],
      "source": [
        "def entropy(filename, blocksize=1024):\n",
        "  high_e = 0\n",
        "  low_e = 0\n",
        "\n",
        "  blocks, entropy = get_blocks(filename, blocksize)\n",
        "\n",
        "  print(\"entropy report for\", filename)\n",
        "  print(\"block# \\t entropy\")\n",
        "\n",
        "  for i,e in enumerate(entropy):\n",
        "    print(f\"{i} \\t {e:.2f}\")\n",
        "    if e<2:\n",
        "      low_e+=1\n",
        "    elif e>7:\n",
        "      high_e+=1\n",
        "\n",
        "  print (\"Low entropy blocks: \", low_e)\n",
        "  print (\"High entropy blocks: \", high_e)\n",
        "\n",
        "\n",
        "def get_blocks(filename, blocksize):\n",
        "  blocks = []\n",
        "  entropy = []\n",
        "  with open(filename, \"rb\") as f:\n",
        "    while True:\n",
        "      block = f.read(blocksize)\n",
        "      if not block:\n",
        "        break\n",
        "      blocks.append(block)\n",
        "      entropy.append(get_entropy(block))\n",
        "  return blocks, entropy\n",
        "\n",
        "def get_entropy(block):\n",
        "  byte_count = {}\n",
        "  entropy = 0\n",
        "\n",
        "  for byte in block:\n",
        "    if byte in byte_count:\n",
        "      byte_count[byte] += 1\n",
        "    else:\n",
        "      byte_count[byte] = 1\n",
        "\n",
        "  block_size = len(block)\n",
        "  for count in byte_count.values():\n",
        "    Pb = count/block_size\n",
        "    entropy -= Pb * np.log2(Pb)\n",
        "\n",
        "  return entropy"
      ]
    },
    {
      "cell_type": "code",
      "source": [
        "entropy(\"/content/Entropy (1).pdf\")"
      ],
      "metadata": {
        "colab": {
          "base_uri": "https://localhost:8080/"
        },
        "id": "PwPyHT6MTPz0",
        "outputId": "57966e12-fee5-4312-a027-35d565f1294d"
      },
      "execution_count": 52,
      "outputs": [
        {
          "output_type": "stream",
          "name": "stdout",
          "text": [
            "entropy report for /content/Entropy (1).pdf\n",
            "block# \t entropy\n",
            "0 \t 7.81\n",
            "1 \t 7.80\n",
            "2 \t 7.76\n",
            "3 \t 7.81\n",
            "4 \t 7.81\n",
            "5 \t 6.95\n",
            "6 \t 7.79\n",
            "7 \t 7.77\n",
            "8 \t 7.72\n",
            "9 \t 6.29\n",
            "10 \t 7.15\n",
            "11 \t 7.27\n",
            "12 \t 7.35\n",
            "13 \t 7.71\n",
            "14 \t 7.37\n",
            "15 \t 7.80\n",
            "16 \t 7.76\n",
            "17 \t 7.76\n",
            "18 \t 7.75\n",
            "19 \t 7.77\n",
            "20 \t 7.80\n",
            "21 \t 7.75\n",
            "22 \t 7.76\n",
            "23 \t 7.80\n",
            "24 \t 7.77\n",
            "25 \t 7.79\n",
            "26 \t 7.75\n",
            "27 \t 7.82\n",
            "28 \t 7.81\n",
            "29 \t 7.33\n",
            "30 \t 7.39\n",
            "31 \t 7.79\n",
            "32 \t 7.80\n",
            "33 \t 7.77\n",
            "34 \t 7.07\n",
            "35 \t 7.50\n",
            "36 \t 7.49\n",
            "37 \t 7.74\n",
            "38 \t 7.78\n",
            "39 \t 7.75\n",
            "40 \t 7.80\n",
            "41 \t 7.78\n",
            "42 \t 7.75\n",
            "43 \t 7.73\n",
            "44 \t 6.76\n",
            "45 \t 5.50\n",
            "46 \t 3.24\n",
            "Low entropy blocks:  0\n",
            "High entropy blocks:  42\n"
          ]
        }
      ]
    }
  ]
}